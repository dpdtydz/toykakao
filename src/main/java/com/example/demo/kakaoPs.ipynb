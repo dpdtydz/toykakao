import pandas as pd
import re
from datetime import datetime
from collections import defaultdict

class KakaoTalkParser:
    def __init__(self, start_date=None, end_date=None):
        # 카카오톡 메시지 패턴
        self.message_pattern = r'^(\d{4}년 \d{1,2}월 \d{1,2}일 (?:오전|오후) \d{1,2}:\d{2}), ([^:]+) : (.+)$'
        self.system_pattern = r'^(\d{4}년 \d{1,2}월 \d{1,2}일 (?:오전|오후) \d{1,2}:\d{2}), (.+)$'
        self.start_date = start_date
        self.end_date = end_date

    def parse_korean_datetime(self, datetime_str):
        """한국어 날짜/시간 문자열을 datetime 객체로 변환"""
        # 날짜 부분 추출
        date_match = re.search(r'(\d{4})년 (\d{1,2})월 (\d{1,2})일', datetime_str)
        if not date_match:
            raise ValueError(f"날짜 형식을 파싱할 수 없습니다: {datetime_str}")

        year, month, day = map(int, date_match.groups())

        # 시간 부분 추출
        time_match = re.search(r'(오전|오후) (\d{1,2}):(\d{2})', datetime_str)
        if not time_match:
            raise ValueError(f"시간 형식을 파싱할 수 없습니다: {datetime_str}")

        period, hour, minute = time_match.groups()
        hour = int(hour)
        minute = int(minute)

        # 12시간 -> 24시간 형식 변환
        if period == '오후' and hour != 12:
            hour += 12
        elif period == '오전' and hour == 12:
            hour = 0

        return datetime(year, month, day, hour, minute)

    def parse_messages(self, content):
        """지정된 기간의 메시지만 파싱 (사용자 입퇴장 시점 고려)"""
        lines = content.split('\n')
        user_status = defaultdict(list)  # 각 사용자의 입퇴장 기록
        all_events = []  # 모든 이벤트 (메시지, 입장, 퇴장)

        print(f"총 {len(lines)}줄을 처리합니다...")

        # 샘플 출력
        print("\n📄 파일 샘플 (첫 20줄):")
        for i, line in enumerate(lines[:20], 1):
            print(f"{i:2d}: {line}")

        # 첫 번째 단계: 모든 이벤트를 시간순으로 파싱
        for i, line in enumerate(lines):
            line = line.strip()
            if not line:
                continue

            # 헤더나 특수 메시지 건너뛰기
            if any(skip_word in line for skip_word in ['저장한 날짜', '운영정책', '공지사항']):
                continue

            # 일반 메시지 먼저 확인
            match = re.match(self.message_pattern, line)
            if match:
                datetime_str, name, message = match.groups()

                try:
                    dt = self.parse_korean_datetime(datetime_str)
                    all_events.append({
                        'type': 'message',
                        'datetime': dt,
                        'name': name.strip(),
                        'message': message.strip()
                    })
                    if i < 10:  # 처음 몇 개 메시지 로그
                        print(f"  [메시지 발견] {dt} - {name}: {message[:30]}...")
                except Exception as e:
                    if i < 10:
                        print(f"  [파싱 오류] {line[:50]}... - {str(e)}")
                    continue

            # 시스템 메시지 확인
            else:
                # 시스템 메시지 패턴으로 다시 확인
                if '님이 들어왔습니다' in line or '님이 나갔습니다' in line:
                    # 날짜 부분 추출 시도
                    date_match = re.search(r'(\d{4}년 \d{1,2}월 \d{1,2}일 (?:오전|오후) \d{1,2}:\d{2})', line)
                    if date_match:
                        datetime_str = date_match.group(1)
                        try:
                            dt = self.parse_korean_datetime(datetime_str)

                            if '님이 들어왔습니다' in line:
                                name_match = re.search(r'(.+?)님이 들어왔습니다', line)
                                if name_match:
                                    name = name_match.group(1).strip()
                                    # 날짜 부분 제거
                                    name = re.sub(r'^\d{4}년.*?\d{2}, ', '', name)
                                    all_events.append({
                                        'type': 'enter',
                                        'datetime': dt,
                                        'name': name
                                    })
                                    print(f"  [입장] {dt} - {name}")

                            elif '님이 나갔습니다' in line:
                                name_match = re.search(r'(.+?)님이 나갔습니다', line)
                                if name_match:
                                    name = name_match.group(1).strip()
                                    # 날짜 부분 제거
                                    name = re.sub(r'^\d{4}년.*?\d{2}, ', '', name)
                                    all_events.append({
                                        'type': 'leave',
                                        'datetime': dt,
                                        'name': name
                                    })
                                    print(f"  [퇴장] {dt} - {name}")
                        except Exception as e:
                            if i < 20:
                                print(f"  [시스템 메시지 파싱 오류] {line[:50]}...")

        print(f"\n✓ 총 {len(all_events)}개의 이벤트를 파싱했습니다.")
        print(f"  - 메시지: {sum(1 for e in all_events if e['type'] == 'message')}개")
        print(f"  - 입장: {sum(1 for e in all_events if e['type'] == 'enter')}개")
        print(f"  - 퇴장: {sum(1 for e in all_events if e['type'] == 'leave')}개")

        # 두 번째 단계: 사용자별 입퇴장 기간 계산
        for event in sorted(all_events, key=lambda x: x['datetime']):
            if event['type'] == 'enter':
                user_status[event['name']].append({'enter': event['datetime'], 'leave': None})
            elif event['type'] == 'leave':
                # 마지막 입장 기록에 퇴장 시간 추가
                if event['name'] in user_status and user_status[event['name']]:
                    for period in reversed(user_status[event['name']]):
                        if period['leave'] is None:
                            period['leave'] = event['datetime']
                            break

        # 아직 나가지 않은 사용자들의 leave를 None으로 유지
        print("\n📊 사용자별 입퇴장 기록:")
        for name, periods in user_status.items():
            print(f"  - {name}:")
            for i, period in enumerate(periods):
                enter_str = period['enter'].strftime('%Y-%m-%d %H:%M')
                leave_str = period['leave'].strftime('%Y-%m-%d %H:%M') if period['leave'] else '현재까지'
                print(f"    {i+1}. {enter_str} ~ {leave_str}")

        # 세 번째 단계: 유효한 메시지만 필터링
        chat_data = []
        total_messages = 0
        excluded_messages = 0
        date_excluded = 0

        for event in all_events:
            if event['type'] == 'message':
                total_messages += 1

                # 날짜 범위 체크
                if self.start_date and event['datetime'] < self.start_date:
                    date_excluded += 1
                    continue
                if self.end_date and event['datetime'] > self.end_date:
                    date_excluded += 1
                    continue

                # 해당 사용자가 메시지를 보낸 시점에 채팅방에 있었는지 확인
                is_valid = False

                # 입퇴장 기록이 없는 사용자는 처음부터 있었다고 가정
                if event['name'] not in user_status:
                    is_valid = True
                else:
                    # 입퇴장 기록이 있는 경우, 유효한 기간 내의 메시지인지 확인
                    for period in user_status[event['name']]:
                        enter_time = period['enter']
                        leave_time = period['leave']

                        # 입장 시간 이후이고, 퇴장 시간 이전(또는 아직 안 나감)인 경우
                        if event['datetime'] >= enter_time:
                            if leave_time is None or event['datetime'] <= leave_time:
                                is_valid = True
                                break

                if is_valid:
                    chat_data.append({
                        'datetime': event['datetime'],
                        'date': event['datetime'].strftime('%Y-%m-%d'),
                        'time': event['datetime'].strftime('%H:%M:%S'),
                        'year': event['datetime'].year,
                        'month': event['datetime'].month,
                        'name': event['name'],
                        'message': event['message'],
                        'message_length': len(event['message'])
                    })
                else:
                    excluded_messages += 1

        print(f"\n✓ 전체 메시지 중 {total_messages}개를 발견했습니다.")
        print(f"✓ 날짜 범위를 벗어난 메시지 {date_excluded}개를 제외했습니다.")
        print(f"✓ 입퇴장 시점을 고려하여 {excluded_messages}개를 제외했습니다.")

        date_range_str = self.get_date_range_string()
        print(f"✓ {date_range_str} 유효한 메시지: {len(chat_data)}개")

        if len(chat_data) == 0:
            print(f"❌ {date_range_str} 유효한 메시지가 없습니다.")
            return pd.DataFrame()

        df = pd.DataFrame(chat_data)
        return df

    def get_date_range_string(self):
        """날짜 범위를 문자열로 반환"""
        if self.start_date and self.end_date:
            start_str = self.start_date.strftime('%Y년 %m월')
            end_str = self.end_date.strftime('%Y년 %m월')
            if start_str == end_str:
                return start_str
            else:
                return f"{start_str} ~ {end_str}"
        elif self.start_date:
            return f"{self.start_date.strftime('%Y년 %m월')} 이후"
        elif self.end_date:
            return f"{self.end_date.strftime('%Y년 %m월')} 이전"
        else:
            return "전체 기간"

def get_date_input():
    """사용자로부터 날짜 범위 입력받기"""
    print("\n날짜 범위를 설정합니다.")
    print("형식: YYYY-MM (예: 2025-01)")
    print("Enter를 누르면 해당 항목을 건너뜁니다.\n")

    try:
        # 시작 날짜
        start_input = input("시작 년-월을 입력하세요 (예: 2024-12): ").strip()
        if start_input:
            year, month = map(int, start_input.split('-'))
            start_date = datetime(year, month, 1)
        else:
            start_date = None

        # 종료 날짜
        end_input = input("종료 년-월을 입력하세요 (예: 2025-02): ").strip()
        if end_input:
            year, month = map(int, end_input.split('-'))
            # 해당 월의 마지막 날 계산
            if month == 12:
                end_date = datetime(year + 1, 1, 1) - pd.Timedelta(seconds=1)
            else:
                end_date = datetime(year, month + 1, 1) - pd.Timedelta(seconds=1)
        else:
            end_date = None

        # 기본값 설정
        if not start_date and not end_date:
            # 현재 날짜 기준으로 설정
            now = datetime.now()
            start_date = datetime(now.year, now.month, 1)
            end_date = now
            print(f"\n기본값으로 {now.year}년 {now.month}월을 설정합니다.")
        elif start_date and not end_date:
            # 시작 날짜만 있으면 해당 월만
            if start_date.month == 12:
                end_date = datetime(start_date.year + 1, 1, 1) - pd.Timedelta(seconds=1)
            else:
                end_date = datetime(start_date.year, start_date.month + 1, 1) - pd.Timedelta(seconds=1)
        elif not start_date and end_date:
            # 종료 날짜만 있으면 해당 월만
            start_date = datetime(end_date.year, end_date.month, 1)

        print(f"\n설정된 기간: {start_date.strftime('%Y년 %m월 %d일')} ~ {end_date.strftime('%Y년 %m월 %d일')}")
        return start_date, end_date

    except Exception as e:
        print(f"입력 오류: {str(e)}")
        print("기본값으로 전체 기간을 사용합니다.")
        return None, None

def main():
    print("=== 카카오톡 메시지 추출기 (년-월 범위 지정 버전) ===")
    print("지정된 기간의 메시지만 CSV로 저장합니다.")
    print("사용자의 입퇴장 시점을 추적하여 유효한 메시지만 포함합니다.\n")

    # 날짜 범위 입력받기
    start_date, end_date = get_date_input()

    try:
        # Google Colab 환경
        from google.colab import files
        uploaded = files.upload()

        for filename, content in uploaded.items():
            print(f'\n📁 파일 "{filename}" 처리 중...')

            # 인코딩 시도
            file_content = None
            for encoding in ['utf-8', 'cp949', 'euc-kr']:
                try:
                    file_content = content.decode(encoding)
                    print(f"✓ {encoding} 인코딩으로 파일을 읽었습니다.")
                    break
                except UnicodeDecodeError:
                    continue

            if file_content is None:
                print("❌ 파일을 읽을 수 없습니다.")
                continue

            # 파싱
            parser = KakaoTalkParser(start_date, end_date)
            df = parser.parse_messages(file_content)

            if not df.empty:
                # 간단한 통계 출력
                date_range = parser.get_date_range_string()
                print(f"\n📊 {date_range} 메시지 통계:")
                print(f"  - 총 메시지 수: {len(df):,}개")
                print(f"  - 참여자 수: {df['name'].nunique()}명")
                print(f"  - 기간: {df['date'].min()} ~ {df['date'].max()}")

                # 사용자별 메시지 수
                user_stats = df['name'].value_counts()
                print(f"\n  - 사용자별 메시지 수:")
                for name, count in user_stats.items():
                    print(f"    {name}: {count:,}개")

                # 월별 메시지 수
                monthly_stats = df.groupby(['year', 'month']).size()
                print(f"\n  - 월별 메시지 수:")
                for (year, month), count in monthly_stats.items():
                    print(f"    {year}년 {month}월: {count:,}개")

                # CSV 저장
                if start_date and end_date:
                    date_str = f"{start_date.strftime('%Y%m')}-{end_date.strftime('%Y%m')}"
                else:
                    date_str = "all"
                output_filename = f"kakao_{date_str}_{filename.replace('.txt', '')}.csv"
                df.to_csv(output_filename, index=False, encoding='utf-8-sig')
                print(f"\n💾 메시지가 '{output_filename}'에 저장되었습니다.")

                # 파일 다운로드
                try:
                    files.download(output_filename)
                    print("✅ 파일 다운로드 완료!")
                except Exception as e:
                    print(f"❌ 파일 다운로드 중 오류: {str(e)}")
            else:
                print(f"❌ 지정된 기간에 유효한 메시지가 없습니다.")

    except ImportError:
        # 로컬 환경
        print("로컬 환경에서 사용하시려면:")
        print("1. 파일을 읽어주세요:")
        print("   with open('kakao_talk.txt', 'r', encoding='utf-8') as f:")
        print("       content = f.read()")
        print("2. 날짜 설정:")
        print("   from datetime import datetime")
        print("   start = datetime(2024, 12, 1)")
        print("   end = datetime(2025, 2, 28)")
        print("3. 파서를 실행하세요:")
        print("   parser = KakaoTalkParser(start, end)")
        print("   df = parser.parse_messages(content)")
        print("4. CSV로 저장하세요:")
        print("   df.to_csv('kakao_202412-202502.csv', index=False, encoding='utf-8-sig')")

if __name__ == "__main__":
    main()
